{
 "cells": [
  {
   "cell_type": "code",
   "execution_count": 26,
   "metadata": {},
   "outputs": [],
   "source": [
    "import pandas as pd\n",
    "import numpy as np\n",
    "import seaborn as sns\n",
    "import matplotlib.pyplot as plt\n",
    "import xgboost as xgb\n",
    "from sklearn.model_selection import StratifiedShuffleSplit\n",
    "from sklearn.model_selection import train_test_split"
   ]
  },
  {
   "cell_type": "code",
   "execution_count": 3,
   "metadata": {},
   "outputs": [
    {
     "data": {
      "text/html": [
       "<div>\n",
       "<style scoped>\n",
       "    .dataframe tbody tr th:only-of-type {\n",
       "        vertical-align: middle;\n",
       "    }\n",
       "\n",
       "    .dataframe tbody tr th {\n",
       "        vertical-align: top;\n",
       "    }\n",
       "\n",
       "    .dataframe thead th {\n",
       "        text-align: right;\n",
       "    }\n",
       "</style>\n",
       "<table border=\"1\" class=\"dataframe\">\n",
       "  <thead>\n",
       "    <tr style=\"text-align: right;\">\n",
       "      <th></th>\n",
       "      <th>ID</th>\n",
       "      <th>Target_Sold</th>\n",
       "      <th>Target_Sales</th>\n",
       "      <th>Var_04</th>\n",
       "      <th>No_Act_1M</th>\n",
       "      <th>No_Act_3M</th>\n",
       "      <th>No_Act_6M</th>\n",
       "      <th>No_Act_Lo_1M</th>\n",
       "      <th>No_Act_Lo_1vs2</th>\n",
       "      <th>No_Act_Ph_1M</th>\n",
       "      <th>...</th>\n",
       "      <th>List_STS_FB_1M</th>\n",
       "      <th>List_STS_Index_12M</th>\n",
       "      <th>List_STS_Index_1M</th>\n",
       "      <th>List_STS_Index_3M</th>\n",
       "      <th>List_STS_off_24M</th>\n",
       "      <th>List_STS_T4_12M</th>\n",
       "      <th>MISC_Days_Since_Last_act_noffer</th>\n",
       "      <th>MISC_Days_Since_Last_Offer</th>\n",
       "      <th>Offer_days_1M</th>\n",
       "      <th>Offer_days_24M</th>\n",
       "    </tr>\n",
       "  </thead>\n",
       "  <tbody>\n",
       "    <tr>\n",
       "      <th>count</th>\n",
       "      <td>23245.00000</td>\n",
       "      <td>23245.000000</td>\n",
       "      <td>3128.000000</td>\n",
       "      <td>23245.000000</td>\n",
       "      <td>9442.000000</td>\n",
       "      <td>16285.000000</td>\n",
       "      <td>18915.000000</td>\n",
       "      <td>9442.000000</td>\n",
       "      <td>4717.000000</td>\n",
       "      <td>9442.000000</td>\n",
       "      <td>...</td>\n",
       "      <td>6757.000000</td>\n",
       "      <td>10327.000000</td>\n",
       "      <td>6748.000000</td>\n",
       "      <td>7881.000000</td>\n",
       "      <td>4564.000000</td>\n",
       "      <td>6206.000000</td>\n",
       "      <td>21403.000000</td>\n",
       "      <td>13950.000000</td>\n",
       "      <td>3968.000000</td>\n",
       "      <td>13284.000000</td>\n",
       "    </tr>\n",
       "    <tr>\n",
       "      <th>mean</th>\n",
       "      <td>11623.00000</td>\n",
       "      <td>0.134567</td>\n",
       "      <td>6029.586001</td>\n",
       "      <td>4.682426</td>\n",
       "      <td>3.262550</td>\n",
       "      <td>5.394412</td>\n",
       "      <td>9.219138</td>\n",
       "      <td>0.817094</td>\n",
       "      <td>0.386686</td>\n",
       "      <td>0.388053</td>\n",
       "      <td>...</td>\n",
       "      <td>0.859028</td>\n",
       "      <td>0.236492</td>\n",
       "      <td>0.395431</td>\n",
       "      <td>0.328077</td>\n",
       "      <td>20.349032</td>\n",
       "      <td>5.225781</td>\n",
       "      <td>112.124235</td>\n",
       "      <td>527.809534</td>\n",
       "      <td>1.244960</td>\n",
       "      <td>4.530488</td>\n",
       "    </tr>\n",
       "    <tr>\n",
       "      <th>std</th>\n",
       "      <td>6710.39784</td>\n",
       "      <td>0.341267</td>\n",
       "      <td>14558.268334</td>\n",
       "      <td>8.420480</td>\n",
       "      <td>5.886061</td>\n",
       "      <td>11.392518</td>\n",
       "      <td>21.281711</td>\n",
       "      <td>3.146312</td>\n",
       "      <td>4.849269</td>\n",
       "      <td>0.972352</td>\n",
       "      <td>...</td>\n",
       "      <td>1.236418</td>\n",
       "      <td>0.252453</td>\n",
       "      <td>0.327165</td>\n",
       "      <td>0.298248</td>\n",
       "      <td>61.098671</td>\n",
       "      <td>18.003207</td>\n",
       "      <td>218.524990</td>\n",
       "      <td>630.730353</td>\n",
       "      <td>0.579435</td>\n",
       "      <td>4.761374</td>\n",
       "    </tr>\n",
       "    <tr>\n",
       "      <th>min</th>\n",
       "      <td>1.00000</td>\n",
       "      <td>0.000000</td>\n",
       "      <td>95.000000</td>\n",
       "      <td>0.000000</td>\n",
       "      <td>1.000000</td>\n",
       "      <td>1.000000</td>\n",
       "      <td>1.000000</td>\n",
       "      <td>0.000000</td>\n",
       "      <td>-60.000000</td>\n",
       "      <td>0.000000</td>\n",
       "      <td>...</td>\n",
       "      <td>0.009524</td>\n",
       "      <td>0.000958</td>\n",
       "      <td>0.002941</td>\n",
       "      <td>0.002041</td>\n",
       "      <td>0.009804</td>\n",
       "      <td>0.003205</td>\n",
       "      <td>0.000000</td>\n",
       "      <td>0.000000</td>\n",
       "      <td>1.000000</td>\n",
       "      <td>1.000000</td>\n",
       "    </tr>\n",
       "    <tr>\n",
       "      <th>25%</th>\n",
       "      <td>5812.00000</td>\n",
       "      <td>0.000000</td>\n",
       "      <td>920.000000</td>\n",
       "      <td>0.000000</td>\n",
       "      <td>1.000000</td>\n",
       "      <td>1.000000</td>\n",
       "      <td>2.000000</td>\n",
       "      <td>0.000000</td>\n",
       "      <td>0.000000</td>\n",
       "      <td>0.000000</td>\n",
       "      <td>...</td>\n",
       "      <td>0.250000</td>\n",
       "      <td>0.055556</td>\n",
       "      <td>0.135135</td>\n",
       "      <td>0.090909</td>\n",
       "      <td>0.500000</td>\n",
       "      <td>0.482124</td>\n",
       "      <td>21.000000</td>\n",
       "      <td>38.000000</td>\n",
       "      <td>1.000000</td>\n",
       "      <td>1.000000</td>\n",
       "    </tr>\n",
       "    <tr>\n",
       "      <th>50%</th>\n",
       "      <td>11623.00000</td>\n",
       "      <td>0.000000</td>\n",
       "      <td>1662.400000</td>\n",
       "      <td>1.000000</td>\n",
       "      <td>1.000000</td>\n",
       "      <td>2.000000</td>\n",
       "      <td>3.000000</td>\n",
       "      <td>0.000000</td>\n",
       "      <td>0.000000</td>\n",
       "      <td>0.000000</td>\n",
       "      <td>...</td>\n",
       "      <td>0.600000</td>\n",
       "      <td>0.142857</td>\n",
       "      <td>0.285714</td>\n",
       "      <td>0.226891</td>\n",
       "      <td>1.833333</td>\n",
       "      <td>1.000000</td>\n",
       "      <td>50.000000</td>\n",
       "      <td>203.000000</td>\n",
       "      <td>1.000000</td>\n",
       "      <td>3.000000</td>\n",
       "    </tr>\n",
       "    <tr>\n",
       "      <th>75%</th>\n",
       "      <td>17434.00000</td>\n",
       "      <td>0.000000</td>\n",
       "      <td>4772.500000</td>\n",
       "      <td>3.000000</td>\n",
       "      <td>3.000000</td>\n",
       "      <td>5.000000</td>\n",
       "      <td>8.000000</td>\n",
       "      <td>0.000000</td>\n",
       "      <td>0.000000</td>\n",
       "      <td>1.000000</td>\n",
       "      <td>...</td>\n",
       "      <td>1.000000</td>\n",
       "      <td>0.328669</td>\n",
       "      <td>0.571429</td>\n",
       "      <td>0.500000</td>\n",
       "      <td>10.000000</td>\n",
       "      <td>2.666667</td>\n",
       "      <td>114.000000</td>\n",
       "      <td>950.000000</td>\n",
       "      <td>1.000000</td>\n",
       "      <td>6.000000</td>\n",
       "    </tr>\n",
       "    <tr>\n",
       "      <th>max</th>\n",
       "      <td>23245.00000</td>\n",
       "      <td>1.000000</td>\n",
       "      <td>197848.000000</td>\n",
       "      <td>24.000000</td>\n",
       "      <td>121.000000</td>\n",
       "      <td>187.000000</td>\n",
       "      <td>358.000000</td>\n",
       "      <td>77.000000</td>\n",
       "      <td>73.000000</td>\n",
       "      <td>22.000000</td>\n",
       "      <td>...</td>\n",
       "      <td>26.000000</td>\n",
       "      <td>1.000000</td>\n",
       "      <td>1.000000</td>\n",
       "      <td>1.000000</td>\n",
       "      <td>509.000000</td>\n",
       "      <td>277.000000</td>\n",
       "      <td>3292.000000</td>\n",
       "      <td>2744.000000</td>\n",
       "      <td>6.000000</td>\n",
       "      <td>56.000000</td>\n",
       "    </tr>\n",
       "  </tbody>\n",
       "</table>\n",
       "<p>8 rows × 53 columns</p>\n",
       "</div>"
      ],
      "text/plain": [
       "                ID   Target_Sold   Target_Sales        Var_04    No_Act_1M  \\\n",
       "count  23245.00000  23245.000000    3128.000000  23245.000000  9442.000000   \n",
       "mean   11623.00000      0.134567    6029.586001      4.682426     3.262550   \n",
       "std     6710.39784      0.341267   14558.268334      8.420480     5.886061   \n",
       "min        1.00000      0.000000      95.000000      0.000000     1.000000   \n",
       "25%     5812.00000      0.000000     920.000000      0.000000     1.000000   \n",
       "50%    11623.00000      0.000000    1662.400000      1.000000     1.000000   \n",
       "75%    17434.00000      0.000000    4772.500000      3.000000     3.000000   \n",
       "max    23245.00000      1.000000  197848.000000     24.000000   121.000000   \n",
       "\n",
       "          No_Act_3M     No_Act_6M  No_Act_Lo_1M  No_Act_Lo_1vs2  No_Act_Ph_1M  \\\n",
       "count  16285.000000  18915.000000   9442.000000     4717.000000   9442.000000   \n",
       "mean       5.394412      9.219138      0.817094        0.386686      0.388053   \n",
       "std       11.392518     21.281711      3.146312        4.849269      0.972352   \n",
       "min        1.000000      1.000000      0.000000      -60.000000      0.000000   \n",
       "25%        1.000000      2.000000      0.000000        0.000000      0.000000   \n",
       "50%        2.000000      3.000000      0.000000        0.000000      0.000000   \n",
       "75%        5.000000      8.000000      0.000000        0.000000      1.000000   \n",
       "max      187.000000    358.000000     77.000000       73.000000     22.000000   \n",
       "\n",
       "       ...  List_STS_FB_1M  List_STS_Index_12M  List_STS_Index_1M  \\\n",
       "count  ...     6757.000000        10327.000000        6748.000000   \n",
       "mean   ...        0.859028            0.236492           0.395431   \n",
       "std    ...        1.236418            0.252453           0.327165   \n",
       "min    ...        0.009524            0.000958           0.002941   \n",
       "25%    ...        0.250000            0.055556           0.135135   \n",
       "50%    ...        0.600000            0.142857           0.285714   \n",
       "75%    ...        1.000000            0.328669           0.571429   \n",
       "max    ...       26.000000            1.000000           1.000000   \n",
       "\n",
       "       List_STS_Index_3M  List_STS_off_24M  List_STS_T4_12M  \\\n",
       "count        7881.000000       4564.000000      6206.000000   \n",
       "mean            0.328077         20.349032         5.225781   \n",
       "std             0.298248         61.098671        18.003207   \n",
       "min             0.002041          0.009804         0.003205   \n",
       "25%             0.090909          0.500000         0.482124   \n",
       "50%             0.226891          1.833333         1.000000   \n",
       "75%             0.500000         10.000000         2.666667   \n",
       "max             1.000000        509.000000       277.000000   \n",
       "\n",
       "       MISC_Days_Since_Last_act_noffer  MISC_Days_Since_Last_Offer  \\\n",
       "count                     21403.000000                13950.000000   \n",
       "mean                        112.124235                  527.809534   \n",
       "std                         218.524990                  630.730353   \n",
       "min                           0.000000                    0.000000   \n",
       "25%                          21.000000                   38.000000   \n",
       "50%                          50.000000                  203.000000   \n",
       "75%                         114.000000                  950.000000   \n",
       "max                        3292.000000                 2744.000000   \n",
       "\n",
       "       Offer_days_1M  Offer_days_24M  \n",
       "count    3968.000000    13284.000000  \n",
       "mean        1.244960        4.530488  \n",
       "std         0.579435        4.761374  \n",
       "min         1.000000        1.000000  \n",
       "25%         1.000000        1.000000  \n",
       "50%         1.000000        3.000000  \n",
       "75%         1.000000        6.000000  \n",
       "max         6.000000       56.000000  \n",
       "\n",
       "[8 rows x 53 columns]"
      ]
     },
     "execution_count": 3,
     "metadata": {},
     "output_type": "execute_result"
    }
   ],
   "source": [
    "df = pd.read_csv(r\"D:\\Sahithi\\sahithi\\case study\\stepstone\\Lead_testdata.csv\", delimiter=\";\")\n",
    "df.describe()"
   ]
  },
  {
   "cell_type": "code",
   "execution_count": 4,
   "metadata": {},
   "outputs": [],
   "source": [
    "#df[df[\"Target_Sold\"]==1][\"Target_Sold\"]"
   ]
  },
  {
   "cell_type": "markdown",
   "metadata": {},
   "source": [
    "## High selling jobs"
   ]
  },
  {
   "cell_type": "code",
   "execution_count": 5,
   "metadata": {},
   "outputs": [
    {
     "data": {
      "text/plain": [
       "<matplotlib.axes._subplots.AxesSubplot at 0x21be7663b00>"
      ]
     },
     "execution_count": 5,
     "metadata": {},
     "output_type": "execute_result"
    },
    {
     "data": {
      "image/png": "[encoded data removed]",
      "text/plain": [
       "<Figure size 432x288 with 1 Axes>"
      ]
     },
     "metadata": {
      "needs_background": "light"
     },
     "output_type": "display_data"
    }
   ],
   "source": [
    "df[pd.notna(df[\"Target_Sales\"])][\"Target_Sales\"].plot.box()"
   ]
  },
  {
   "cell_type": "code",
   "execution_count": 6,
   "metadata": {},
   "outputs": [
    {
     "data": {
      "text/plain": [
       "count      3128.000000\n",
       "mean       6029.586001\n",
       "std       14558.268334\n",
       "min          95.000000\n",
       "25%         920.000000\n",
       "50%        1662.400000\n",
       "75%        4772.500000\n",
       "max      197848.000000\n",
       "Name: Target_Sales, dtype: float64"
      ]
     },
     "execution_count": 6,
     "metadata": {},
     "output_type": "execute_result"
    }
   ],
   "source": [
    "df[pd.notna(df[\"Target_Sales\"])][\"Target_Sales\"].describe()"
   ]
  },
  {
   "cell_type": "code",
   "execution_count": 7,
   "metadata": {},
   "outputs": [],
   "source": [
    "x=list(range(len(df[pd.notna(df[\"Target_Sales\"])][\"Target_Sales\"])))"
   ]
  },
  {
   "cell_type": "code",
   "execution_count": 8,
   "metadata": {},
   "outputs": [],
   "source": [
    "x_perc = [_x / 3128  for _x in x]"
   ]
  },
  {
   "cell_type": "code",
   "execution_count": 9,
   "metadata": {},
   "outputs": [],
   "source": [
    "seriesCum = df[pd.notna(df[\"Target_Sales\"])][\"Target_Sales\"].copy().sort_values().cumsum()/df[pd.notna(df[\"Target_Sales\"])][\"Target_Sales\"].copy().sort_values().sum()"
   ]
  },
  {
   "cell_type": "code",
   "execution_count": 10,
   "metadata": {},
   "outputs": [
    {
     "data": {
      "text/plain": [
       "[<matplotlib.lines.Line2D at 0x21be76c0518>]"
      ]
     },
     "execution_count": 10,
     "metadata": {},
     "output_type": "execute_result"
    },
    {
     "data": {
      "image/png": "[encoded data removed]",
      "text/plain": [
       "<Figure size 432x288 with 1 Axes>"
      ]
     },
     "metadata": {
      "needs_background": "light"
     },
     "output_type": "display_data"
    }
   ],
   "source": [
    "plt.plot(x_perc,seriesCum)"
   ]
  },
  {
   "cell_type": "code",
   "execution_count": 11,
   "metadata": {},
   "outputs": [],
   "source": [
    "#df.isnull().sum()"
   ]
  },
  {
   "cell_type": "code",
   "execution_count": 12,
   "metadata": {},
   "outputs": [],
   "source": [
    "#sns.pairplot(df)"
   ]
  },
  {
   "cell_type": "code",
   "execution_count": 25,
   "metadata": {},
   "outputs": [],
   "source": [
    "X = df.drop([\"ID\", \"Target_Sold\"],1)  #feature matrix\n",
    "y = (df[\"Target_Sold\"]) #target variable"
   ]
  },
  {
   "cell_type": "code",
   "execution_count": 28,
   "metadata": {},
   "outputs": [],
   "source": []
  },
  {
   "cell_type": "code",
   "execution_count": 34,
   "metadata": {},
   "outputs": [
    {
     "data": {
      "text/plain": [
       "array([[9.9975234e-01, 2.4766035e-04],\n",
       "       [9.9981928e-01, 1.8073662e-04],\n",
       "       [9.9981928e-01, 1.8073662e-04],\n",
       "       ...,\n",
       "       [7.5387955e-04, 9.9924612e-01],\n",
       "       [9.9991429e-01, 8.5709355e-05],\n",
       "       [9.9991429e-01, 8.5709355e-05]], dtype=float32)"
      ]
     },
     "execution_count": 34,
     "metadata": {},
     "output_type": "execute_result"
    }
   ],
   "source": [
    "xgb_model = xgb.XGBClassifier(objective='binary:logistic')\n",
    "xgb_model.fit(X_train, y_train)\n",
    "y_pred = xgb_model.predict_proba(X_test)\n",
    "y_pred"
   ]
  },
  {
   "cell_type": "code",
   "execution_count": null,
   "metadata": {},
   "outputs": [],
   "source": []
  }
 ],
 "metadata": {
  "kernelspec": {
   "display_name": "Python 3",
   "language": "python",
   "name": "python3"
  },
  "language_info": {
   "codemirror_mode": {
    "name": "ipython",
    "version": 3
   },
   "file_extension": ".py",
   "mimetype": "text/x-python",
   "name": "python",
   "nbconvert_exporter": "python",
   "pygments_lexer": "ipython3",
   "version": "3.7.3"
  }
 },
 "nbformat": 4,
 "nbformat_minor": 2
}
